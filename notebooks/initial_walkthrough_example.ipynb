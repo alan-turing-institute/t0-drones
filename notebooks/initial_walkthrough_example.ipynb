{
 "cells": [
  {
   "cell_type": "code",
   "execution_count": null,
   "id": "c7f684c9",
   "metadata": {},
   "outputs": [],
   "source": [
    "## parameters\n",
    "n_docs = 3 # note it's double as we use two retrievers (vector and keyword)\n",
    "\n",
    "query = \"Can i fly a drone in the city center?\"\n",
    "\n",
    "model = \"gemma3:4b\" # note you need to pull this model first from ollama"
   ]
  },
  {
   "cell_type": "code",
   "execution_count": 2,
   "id": "039abb8e",
   "metadata": {},
   "outputs": [],
   "source": [
    "from langchain.text_splitter import TokenTextSplitter\n",
    "import os\n",
    "\n",
    "splitter = TokenTextSplitter(\n",
    "    encoding_name=\"cl100k_base\",\n",
    "    chunk_size=500,\n",
    "    chunk_overlap=100\n",
    ")\n",
    "\n",
    "all_chunks = []\n",
    "for file in os.listdir(\"../data\"):\n",
    "    if file.endswith(\".txt\"):\n",
    "        with open(os.path.join(\"../data\", file), \"r\", encoding=\"utf-8\") as f:\n",
    "            content = f.read()\n",
    "            chunks = splitter.split_text(content)\n",
    "            all_chunks.extend(chunks)"
   ]
  },
  {
   "cell_type": "code",
   "execution_count": 10,
   "id": "1f34f420",
   "metadata": {},
   "outputs": [],
   "source": [
    "from langchain.vectorstores import FAISS\n",
    "from langchain.embeddings import HuggingFaceEmbeddings\n",
    "\n",
    "embedding_model = HuggingFaceEmbeddings(model_name=\"all-MiniLM-L6-v2\")\n",
    "\n",
    "faiss_store = FAISS.from_texts(chunks, embedding_model)\n"
   ]
  },
  {
   "cell_type": "code",
   "execution_count": 4,
   "id": "f2d44855",
   "metadata": {},
   "outputs": [],
   "source": [
    "from langchain.retrievers import BM25Retriever\n",
    "from nltk.tokenize import word_tokenize\n",
    "import nltk\n",
    "\n",
    "#nltk.download(\"punkt\")  # First time only\n",
    "\n",
    "bm25_retriever = BM25Retriever.from_texts(chunks)\n",
    "bm25_retriever.k = n_docs  # Top-k results to return\n"
   ]
  },
  {
   "cell_type": "code",
   "execution_count": 5,
   "id": "b2bcfc87",
   "metadata": {},
   "outputs": [],
   "source": [
    "from langchain.retrievers import EnsembleRetriever\n",
    "\n",
    "hybrid = EnsembleRetriever(\n",
    "    retrievers=[bm25_retriever, faiss_store.as_retriever(search_kwargs={\"k\": n_docs})],\n",
    "    weights=[0.5, 0.5],  # Tune weights depending on which you want to prioritize\n",
    ")"
   ]
  },
  {
   "cell_type": "code",
   "execution_count": 6,
   "id": "0c99e43d",
   "metadata": {},
   "outputs": [],
   "source": [
    "supporting_docs = []\n",
    "\n",
    "results = hybrid.invoke(query)\n",
    "\n",
    "for i, doc in enumerate(results):\n",
    "    supporting_docs.append(doc.page_content)\n"
   ]
  },
  {
   "cell_type": "code",
   "execution_count": 7,
   "id": "32f415a4",
   "metadata": {},
   "outputs": [],
   "source": [
    "import ollama\n",
    "\n",
    "# basic function to prompt the model\n",
    "def get_response_from_model(prompt, model=\"gemma3:1b\"):\n",
    "    response = ollama.generate(model=model, prompt=prompt)\n",
    "    return response[\"response\"]\n"
   ]
  },
  {
   "cell_type": "code",
   "execution_count": 8,
   "id": "67e6841d",
   "metadata": {},
   "outputs": [],
   "source": [
    "def generate_prompt(query, supporting_docs):\n",
    "    prompt = f\"You are a helpful AI legal assistant.\\n\"\n",
    "    prompt += \"You will answer the question based only on legal interpretation of the provided documents.\\n\\n\"\n",
    "    prompt += \"Supporting Documents:\\n\"\n",
    "    for i, doc in enumerate(supporting_docs):\n",
    "        prompt += f\"Document {i+1}:\\n{doc}\\n\\n\"\n",
    "    prompt += f\"Question: {query}\\nAnswer:\"\n",
    "    return prompt"
   ]
  },
  {
   "cell_type": "code",
   "execution_count": 9,
   "id": "4ca2c8cb",
   "metadata": {},
   "outputs": [
    {
     "name": "stdout",
     "output_type": "stream",
     "text": [
      "Response: Based on the provided documents, determining whether you can fly a drone in a city center requires careful consideration of several factors and regulations. Here’s a breakdown of the relevant stipulations:\n",
      "\n",
      "**Key Restrictions & Requirements:**\n",
      "\n",
      "*   **Category of Operation is Crucial:** The documents outline three categories of UAS operations: ‘open’, ‘specific’, and ‘remote’ (or ‘special’). The rules governing each category differ significantly.\n",
      "*   **‘Open’ Category – Generally Prohibited in City Centers:** The ‘open’ category (as defined in UAS.OPEN.020) is generally *not* suitable for city center operations. It’s specifically restricted to areas where you can reasonably expect no uninvolved persons to be endangered. City centers inherently have high pedestrian traffic, making this category unsuitable.\n",
      "*   **‘Specific’ Category – Potentially Possible with Conditions:** The ‘specific’ category (as defined in UAS.SPEC.020) *could* be permissible, but it’s heavily reliant on meeting stringent conditions. These include:\n",
      "    *   A detailed operational risk assessment (as required by UAS.SPEC.010).\n",
      "    *   Compliance with geographical zone limitations (Article 15).\n",
      "    *   Maintaining a safe horizontal distance of at least 150 meters from residential, commercial, industrial, or recreational areas.\n",
      "*   **‘Remote’ Category – Limited Applicability:** The ‘remote’ category, with its focus on minimizing risk, would likely be unsuitable for city center operations due to the increased density of people and infrastructure.\n",
      "\n",
      "**Specific Requirements that Would Apply (Regardless of Category):**\n",
      "\n",
      "*   **Remote Pilot Competency:** The remote pilot *must* have the appropriate competency as defined in the operational authorisation or as defined by the LUC (as outlined in UAS.SPEC.060). This includes proof of competency (UAS.SPEC.060(1)(b)).\n",
      "*   **Operational Risk Assessment:** A detailed operational risk assessment (UAS.SPEC.010) is mandatory for the ‘specific’ category and could be required even in other categories.\n",
      "*   **Safety Distances:** Maintaining a safe distance from people and property is paramount, regardless of the category.\n",
      "\n",
      "**Important Note:** The documents state an operational authorisation is needed. This authorisation will dictate the precise rules and limitations under which you can operate.\n",
      "\n",
      "**Disclaimer:** *I am an AI legal assistant. I am providing an interpretation of the provided documents. This is not legal advice. You must consult with a qualified legal professional to determine the specific regulations that apply to your drone operation and ensure compliance.*\n",
      "\n",
      "To give you a more precise answer, I would need to know:\n",
      "\n",
      "*   What is the *specific* location within the city center? (Regulations can vary by jurisdiction.)\n",
      "*   What is the intended use of the drone? (e.g., photography, inspection, delivery).\n"
     ]
    }
   ],
   "source": [
    "prompt = generate_prompt(query, supporting_docs)\n",
    "response = get_response_from_model(prompt, model=model)\n",
    "print (f\"Response: {response}\")"
   ]
  }
 ],
 "metadata": {
  "kernelspec": {
   "display_name": "t0-drones",
   "language": "python",
   "name": "python3"
  },
  "language_info": {
   "codemirror_mode": {
    "name": "ipython",
    "version": 3
   },
   "file_extension": ".py",
   "mimetype": "text/x-python",
   "name": "python",
   "nbconvert_exporter": "python",
   "pygments_lexer": "ipython3",
   "version": "3.13.5"
  }
 },
 "nbformat": 4,
 "nbformat_minor": 5
}
